{
 "cells": [
  {
   "cell_type": "code",
   "execution_count": 1,
   "metadata": {},
   "outputs": [],
   "source": [
    "import json\n",
    "import os, cv2\n",
    "import numpy as np"
   ]
  },
  {
   "cell_type": "code",
   "execution_count": 2,
   "metadata": {},
   "outputs": [],
   "source": [
    "j_list=[]\n",
    "with open('f.json') as f: # Get data from Json\n",
    "    j_dict = json.load(f)\n",
    "for val in j_dict.values():\n",
    "    j_list.append([val['regions'], val['filename']])\n",
    "    \n",
    "files = os.listdir('images/')\n",
    "categories = []\n",
    "for index,img in enumerate(files):\n",
    "    if img.endswith('g'):\n",
    "        img1 = cv2.imread(f'images/{j_list[index][-1]}')\n",
    "        mask = np.zeros(img1.shape,np.uint8)\n",
    "        file_name = j_list[index][-1].split('.')[0]\n",
    "        for classes in j_list[index][0]:\n",
    "            \n",
    "            x = classes['shape_attributes']['x']\n",
    "            y = classes['shape_attributes']['y']\n",
    "            w = classes['shape_attributes']['width']\n",
    "            h = classes['shape_attributes']['height']\n",
    "\n",
    "            name = classes['region_attributes']['names']\n",
    "            categories.append(name) if name not in categories else categories\n",
    "            color_val = categories.index(name)+1\n",
    "            # print(img1.shape)\n",
    "            font = cv2.FONT_HERSHEY_SIMPLEX\n",
    "            # cv2.putText(img1,name, (x,y-5),font,1,[0,255,0],2)\n",
    "            cv2.rectangle(mask,(x,y),(x+w,y+h), [color_val,color_val,color_val],-1)\n",
    "            cv2.imwrite(f'labels/{file_name}.tiff', mask)\n",
    "\n",
    "            # print(classes['shape_attributes'])\n",
    "        cv2.imshow(f'{file_name}.tiff', mask)\n",
    "        # print('-'*20)\n",
    "        cv2.waitKey(0)\n",
    "        cv2.destroyAllWindows()"
   ]
  }
 ],
 "metadata": {
  "interpreter": {
   "hash": "48e03393d694f39cedaf5d3d774fe6a97fb0ba030e36d15dca854a0aa23ec665"
  },
  "kernelspec": {
   "display_name": "Python 3.7.0 64-bit",
   "language": "python",
   "name": "python3"
  },
  "language_info": {
   "codemirror_mode": {
    "name": "ipython",
    "version": 3
   },
   "file_extension": ".py",
   "mimetype": "text/x-python",
   "name": "python",
   "nbconvert_exporter": "python",
   "pygments_lexer": "ipython3",
   "version": "3.7.0"
  },
  "orig_nbformat": 4
 },
 "nbformat": 4,
 "nbformat_minor": 2
}
