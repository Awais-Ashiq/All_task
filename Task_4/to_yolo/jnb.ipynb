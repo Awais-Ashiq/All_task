{
 "cells": [
  {
   "cell_type": "code",
   "execution_count": 2,
   "metadata": {},
   "outputs": [],
   "source": [
    "import json\n",
    "import os, cv2"
   ]
  },
  {
   "cell_type": "markdown",
   "metadata": {},
   "source": [
    "## Convert Json Annotation to Yolo Format"
   ]
  },
  {
   "cell_type": "code",
   "execution_count": 19,
   "metadata": {},
   "outputs": [
    {
     "ename": "error",
     "evalue": "OpenCV(4.5.4-dev) :-1: error: (-5:Bad argument) in function 'putText'\n> Overload resolution failed:\n>  - Can't convert object of type 'dict_keys' to 'str' for 'text'\n>  - Can't convert object of type 'dict_keys' to 'str' for 'text'\n",
     "output_type": "error",
     "traceback": [
      "\u001b[1;31m---------------------------------------------------------------------------\u001b[0m",
      "\u001b[1;31merror\u001b[0m                                     Traceback (most recent call last)",
      "\u001b[1;32mC:\\Users\\AWAISA~1\\AppData\\Local\\Temp/ipykernel_6472/3328223294.py\u001b[0m in \u001b[0;36m<module>\u001b[1;34m\u001b[0m\n\u001b[0;32m     29\u001b[0m             \u001b[0mf\u001b[0m\u001b[1;33m.\u001b[0m\u001b[0mwrite\u001b[0m\u001b[1;33m(\u001b[0m\u001b[1;34mf'{categories.index(name)} {x_center} {y_center} {width} {height}\\n'\u001b[0m\u001b[1;33m)\u001b[0m\u001b[1;33m\u001b[0m\u001b[0m\n\u001b[0;32m     30\u001b[0m             \u001b[0mfont\u001b[0m \u001b[1;33m=\u001b[0m \u001b[0mcv2\u001b[0m\u001b[1;33m.\u001b[0m\u001b[0mFONT_HERSHEY_SIMPLEX\u001b[0m\u001b[1;33m\u001b[0m\u001b[0m\n\u001b[1;32m---> 31\u001b[1;33m             \u001b[0mcv2\u001b[0m\u001b[1;33m.\u001b[0m\u001b[0mputText\u001b[0m\u001b[1;33m(\u001b[0m\u001b[0mimg1\u001b[0m\u001b[1;33m,\u001b[0m\u001b[0mname\u001b[0m\u001b[1;33m,\u001b[0m \u001b[1;33m(\u001b[0m\u001b[0mx\u001b[0m\u001b[1;33m,\u001b[0m\u001b[0my\u001b[0m\u001b[1;33m-\u001b[0m\u001b[1;36m5\u001b[0m\u001b[1;33m)\u001b[0m\u001b[1;33m,\u001b[0m\u001b[0mfont\u001b[0m\u001b[1;33m,\u001b[0m\u001b[1;36m1\u001b[0m\u001b[1;33m,\u001b[0m\u001b[1;33m[\u001b[0m\u001b[1;36m0\u001b[0m\u001b[1;33m,\u001b[0m\u001b[1;36m255\u001b[0m\u001b[1;33m,\u001b[0m\u001b[1;36m0\u001b[0m\u001b[1;33m]\u001b[0m\u001b[1;33m,\u001b[0m\u001b[1;36m2\u001b[0m\u001b[1;33m)\u001b[0m\u001b[1;33m\u001b[0m\u001b[0m\n\u001b[0m\u001b[0;32m     32\u001b[0m             \u001b[0mcv2\u001b[0m\u001b[1;33m.\u001b[0m\u001b[0mrectangle\u001b[0m\u001b[1;33m(\u001b[0m\u001b[0mimg1\u001b[0m\u001b[1;33m,\u001b[0m\u001b[1;33m(\u001b[0m\u001b[0mx\u001b[0m\u001b[1;33m,\u001b[0m\u001b[0my\u001b[0m\u001b[1;33m)\u001b[0m\u001b[1;33m,\u001b[0m\u001b[1;33m(\u001b[0m\u001b[0mx\u001b[0m\u001b[1;33m+\u001b[0m\u001b[0mw\u001b[0m\u001b[1;33m,\u001b[0m\u001b[0my\u001b[0m\u001b[1;33m+\u001b[0m\u001b[0mh\u001b[0m\u001b[1;33m)\u001b[0m\u001b[1;33m,\u001b[0m \u001b[1;33m[\u001b[0m\u001b[1;36m0\u001b[0m\u001b[1;33m,\u001b[0m\u001b[1;36m255\u001b[0m\u001b[1;33m,\u001b[0m\u001b[1;36m0\u001b[0m\u001b[1;33m]\u001b[0m\u001b[1;33m,\u001b[0m\u001b[1;36m2\u001b[0m\u001b[1;33m)\u001b[0m\u001b[1;33m\u001b[0m\u001b[0m\n\u001b[0;32m     33\u001b[0m         \u001b[0mf\u001b[0m\u001b[1;33m.\u001b[0m\u001b[0mclose\u001b[0m\u001b[1;33m(\u001b[0m\u001b[1;33m)\u001b[0m\u001b[1;33m\u001b[0m\u001b[0m\n",
      "\u001b[1;31merror\u001b[0m: OpenCV(4.5.4-dev) :-1: error: (-5:Bad argument) in function 'putText'\n> Overload resolution failed:\n>  - Can't convert object of type 'dict_keys' to 'str' for 'text'\n>  - Can't convert object of type 'dict_keys' to 'str' for 'text'\n"
     ]
    }
   ],
   "source": [
    "j_list=[]\n",
    "with open('new.json') as f: # Get data from Json\n",
    "    j_dict = json.load(f)\n",
    "for val in j_dict.values():\n",
    "    j_list.append([val['regions'], val['filename']])\n",
    "    \n",
    "files = os.listdir('images/')\n",
    "categories = []\n",
    "for index,img in enumerate(files):\n",
    "    if '.json' not in img:\n",
    "        img1 = cv2.imread(f'images/{j_list[index][-1]}')\n",
    "        file_name = j_list[index][-1].split('.')[0]\n",
    "        f = open(f'labels/{file_name}.txt', 'w')\n",
    "        for classes in j_list[index][0]:\n",
    "            \n",
    "            x = classes['shape_attributes']['x']\n",
    "            y = classes['shape_attributes']['y']\n",
    "            w = classes['shape_attributes']['width']\n",
    "            h = classes['shape_attributes']['height']\n",
    "            x_max = x+w/2\n",
    "            y_max = y+h/2\n",
    "            x_center = (x_max)/img1.shape[1]\n",
    "            y_center = (y_max)/img1.shape[0]\n",
    "            width = w/img1.shape[1]\n",
    "            height = w/img1.shape[0]\n",
    "            name = classes['region_attributes']['names']\n",
    "            categories.append(name) if name not in categories else categories\n",
    "            # print(img1.shape)\n",
    "            f.write(f'{categories.index(name)} {x_center} {y_center} {width} {height}\\n')\n",
    "            font = cv2.FONT_HERSHEY_SIMPLEX\n",
    "            cv2.putText(img1,name, (x,y-5),font,1,[0,255,0],2)\n",
    "            cv2.rectangle(img1,(x,y),(x+w,y+h), [0,255,0],2)\n",
    "        f.close()\n",
    "            # print(classes['shape_attributes'])\n",
    "        cv2.imshow(f'{img}', img1)\n",
    "        # print('-'*20)\n",
    "        cv2.waitKey(0)\n",
    "        cv2.destroyWindow(f'{img}')"
   ]
  },
  {
   "cell_type": "code",
   "execution_count": null,
   "metadata": {},
   "outputs": [],
   "source": [
    "def read_json(json_path):\n",
    "    with open(json_path) as f:\n",
    "        json_to_dict = json.load(f)\n",
    "    for j in json_to_dict:\n",
    "        print(json_to_dict)\n",
    "        print('-'*40)\n",
    "\n",
    "def get_depth(dict_var):\n",
    "    pass\n",
    "\n",
    "read_json('new.json')\n",
    "print('*'*20)\n",
    "read_json('f.json')\n"
   ]
  }
 ],
 "metadata": {
  "interpreter": {
   "hash": "48e03393d694f39cedaf5d3d774fe6a97fb0ba030e36d15dca854a0aa23ec665"
  },
  "kernelspec": {
   "display_name": "Python 3.7.0 64-bit",
   "language": "python",
   "name": "python3"
  },
  "language_info": {
   "codemirror_mode": {
    "name": "ipython",
    "version": 3
   },
   "file_extension": ".py",
   "mimetype": "text/x-python",
   "name": "python",
   "nbconvert_exporter": "python",
   "pygments_lexer": "ipython3",
   "version": "3.7.0"
  },
  "orig_nbformat": 4
 },
 "nbformat": 4,
 "nbformat_minor": 2
}
