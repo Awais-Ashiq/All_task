{
 "cells": [
  {
   "cell_type": "code",
   "execution_count": 113,
   "metadata": {},
   "outputs": [],
   "source": [
    "import json\n",
    "import os, cv2\n",
    "import numpy as np"
   ]
  },
  {
   "cell_type": "markdown",
   "metadata": {},
   "source": [
    "## Convert Json Annotation to Yolo Format"
   ]
  },
  {
   "cell_type": "code",
   "execution_count": 123,
   "metadata": {},
   "outputs": [],
   "source": [
    "j_list=[]\n",
    "with open('f.json') as f: # Get data from Json\n",
    "    j_dict = json.load(f)\n",
    "for val in j_dict.values():\n",
    "    j_list.append([val['regions'], val['filename']])\n",
    "    \n",
    "files = os.listdir('train/')\n",
    "categories = []\n",
    "for index,img in enumerate(files):\n",
    "    if '.json' not in img:\n",
    "        img1 = cv2.imread(f'train/{j_list[index][-1]}')\n",
    "        file_name = j_list[index][-1].split('.')[0]\n",
    "        f = open(f'yolo_format/{file_name}.txt', 'w')\n",
    "        for classes in j_list[index][0]:\n",
    "            \n",
    "            x = classes['shape_attributes']['x']\n",
    "            y = classes['shape_attributes']['y']\n",
    "            w = classes['shape_attributes']['width']\n",
    "            h = classes['shape_attributes']['height']\n",
    "            x_max = x+w/2\n",
    "            y_max = y+h/2\n",
    "            x_center = (x_max)/img1.shape[1]\n",
    "            y_center = (y_max)/img1.shape[0]\n",
    "            width = w/img1.shape[1]\n",
    "            height = w/img1.shape[0]\n",
    "            name = classes['region_attributes']['names']\n",
    "            categories.append(name) if name not in categories else categories\n",
    "            # print(img1.shape)\n",
    "            f.write(f'{categories.index(name)} {x_center} {y_center} {width} {height}\\n')\n",
    "            font = cv2.FONT_HERSHEY_SIMPLEX\n",
    "            cv2.putText(img1,name, (x,y-5),font,1,[0,255,0],2)\n",
    "            cv2.rectangle(img1,(x,y),(x+w,y+h), [0,255,0],2)\n",
    "        f.close()\n",
    "            # print(classes['shape_attributes'])\n",
    "        cv2.imshow(f'{img}', img1)\n",
    "        # print('-'*20)\n",
    "        cv2.waitKey(0)\n",
    "        cv2.destroyWindow(f'{img}')"
   ]
  }
 ],
 "metadata": {
  "interpreter": {
   "hash": "48e03393d694f39cedaf5d3d774fe6a97fb0ba030e36d15dca854a0aa23ec665"
  },
  "kernelspec": {
   "display_name": "Python 3.7.0 64-bit",
   "language": "python",
   "name": "python3"
  },
  "language_info": {
   "name": "python",
   "version": "3.7.0"
  },
  "orig_nbformat": 4
 },
 "nbformat": 4,
 "nbformat_minor": 2
}
