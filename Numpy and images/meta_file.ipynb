{
 "cells": [
  {
   "cell_type": "code",
   "execution_count": 7,
   "metadata": {},
   "outputs": [],
   "source": [
    "import subprocess\n",
    "from PIL import ImageOps, Image"
   ]
  },
  {
   "cell_type": "code",
   "execution_count": 13,
   "metadata": {},
   "outputs": [],
   "source": [
    "image='exif.jpg'\n",
    "exe='hachoir-metadata'"
   ]
  },
  {
   "cell_type": "code",
   "execution_count": 15,
   "metadata": {},
   "outputs": [
    {
     "name": "stdout",
     "output_type": "stream",
     "text": [
      "Metadata:\n",
      "- Image width: 1800 pixels\n",
      "- Image height: 1200 pixels\n",
      "- Bits/pixel: 24\n",
      "- Pixel format: YCbCr\n",
      "- Compression: JPEG (Baseline)\n",
      "- Comment: JPEG quality: 75%\n",
      "- Format version: JFIF 1.01\n",
      "- MIME type: image/jpeg\n",
      "- Endianness: Big endian\n"
     ]
    }
   ],
   "source": [
    "# process=subprocess.Popen([exe,image],stdout=subprocess.PIPE,stderr=subprocess.STDOUT,universal_newlines=True)\n",
    "# data=process.stdout\n",
    "# for i in data:\n",
    "#     print(i.strip())"
   ]
  },
  {
   "cell_type": "code",
   "execution_count": 12,
   "metadata": {},
   "outputs": [],
   "source": [
    "# x = ImageOps.exif_transpose(Image.open(image))\n",
    "# # Image.SAVE('exif.jpg', x)\n",
    "# x.save('exif.jpg')\n"
   ]
  },
  {
   "cell_type": "code",
   "execution_count": 18,
   "metadata": {},
   "outputs": [
    {
     "name": "stdout",
     "output_type": "stream",
     "text": [
      "{}\n"
     ]
    }
   ],
   "source": [
    "from PIL import Image\n",
    "from PIL.ExifTags import TAGS\n",
    "\n",
    "def get_exif():\n",
    "    i=Image.open('exif.jpg')\n",
    "    info = i.getexif()\n",
    "    return {TAGS.get(tag): value for tag, value in info.items()}\n",
    "\n",
    "print(get_exif())"
   ]
  },
  {
   "cell_type": "code",
   "execution_count": 20,
   "metadata": {},
   "outputs": [
    {
     "data": {
      "text/plain": [
       "1800"
      ]
     },
     "execution_count": 20,
     "metadata": {},
     "output_type": "execute_result"
    }
   ],
   "source": [
    "y = Image.open('exif.jpg')\n",
    "y.width"
   ]
  },
  {
   "cell_type": "code",
   "execution_count": null,
   "metadata": {},
   "outputs": [],
   "source": []
  }
 ],
 "metadata": {
  "interpreter": {
   "hash": "af90afa3e861090a41bad24ba8d51c306ff4be41483c499defb917abd7e61a90"
  },
  "kernelspec": {
   "display_name": "Python 3.7.0 64-bit ('venv': venv)",
   "language": "python",
   "name": "python3"
  },
  "language_info": {
   "codemirror_mode": {
    "name": "ipython",
    "version": 3
   },
   "file_extension": ".py",
   "mimetype": "text/x-python",
   "name": "python",
   "nbconvert_exporter": "python",
   "pygments_lexer": "ipython3",
   "version": "3.7.0"
  },
  "orig_nbformat": 4
 },
 "nbformat": 4,
 "nbformat_minor": 2
}
