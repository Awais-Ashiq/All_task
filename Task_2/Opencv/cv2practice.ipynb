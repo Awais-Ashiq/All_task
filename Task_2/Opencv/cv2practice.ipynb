{
 "cells": [
  {
   "cell_type": "code",
   "execution_count": 1,
   "metadata": {},
   "outputs": [],
   "source": [
    "import os\n",
    "from pathlib import Path\n",
    "import numpy as np\n",
    "from time import time\n",
    "import cv2\n",
    "import matplotlib.pyplot as plt"
   ]
  },
  {
   "cell_type": "code",
   "execution_count": 2,
   "metadata": {},
   "outputs": [],
   "source": [
    "## path.is_file()"
   ]
  },
  {
   "cell_type": "code",
   "execution_count": 3,
   "metadata": {},
   "outputs": [],
   "source": [
    "#path.is_dir()"
   ]
  },
  {
   "cell_type": "code",
   "execution_count": 4,
   "metadata": {},
   "outputs": [],
   "source": [
    "# count = 1\n",
    "# for f in path.iterdir():\n",
    "#     if str.endswith(f.suffix, 'g'):\n",
    "#         f.rename(str(count) + '.jpg')\n",
    "#         count += 1"
   ]
  },
  {
   "cell_type": "code",
   "execution_count": 5,
   "metadata": {},
   "outputs": [],
   "source": [
    "# cv2.imshow('Nature', img)\n",
    "# cv2.waitKey(0)\n",
    "# # cv2.destroyAllWindows()"
   ]
  },
  {
   "cell_type": "code",
   "execution_count": 6,
   "metadata": {},
   "outputs": [],
   "source": [
    "# b, g, r = cv2.split(img)"
   ]
  },
  {
   "cell_type": "code",
   "execution_count": 7,
   "metadata": {},
   "outputs": [],
   "source": [
    "# b"
   ]
  },
  {
   "cell_type": "code",
   "execution_count": 8,
   "metadata": {},
   "outputs": [],
   "source": [
    "\n",
    "# cv2.imshow('color', img)\n",
    "# cv2.imshow('Red', r)\n",
    "# cv2.imshow('Green', g)\n",
    "# cv2.imshow('Blue', b)\n",
    "# cv2.waitKey(0)\n",
    "# cv2.destroyAllWindows()"
   ]
  },
  {
   "cell_type": "code",
   "execution_count": 9,
   "metadata": {},
   "outputs": [],
   "source": [
    "img = cv2.imread('faces.jpg')\n",
    "# cv2.imshow('Color', img)\n",
    "# cv2.waitKey(0)\n",
    "# cv2.destroyAllWindows()\n"
   ]
  },
  {
   "cell_type": "code",
   "execution_count": 10,
   "metadata": {},
   "outputs": [],
   "source": [
    "def display(val: np, win : str = 'WIndow'):\n",
    "    \"\"\"\\\n",
    "        Enter display(val: -> np.array, win= 'Window' -> str)\n",
    "    \"\"\"\n",
    "    cv2.imshow(win, val)\n",
    "    cv2.waitKey(0)\n",
    "    cv2.destroyAllWindows()\n"
   ]
  },
  {
   "cell_type": "code",
   "execution_count": 11,
   "metadata": {},
   "outputs": [],
   "source": [
    "# display(img)"
   ]
  },
  {
   "cell_type": "code",
   "execution_count": 12,
   "metadata": {},
   "outputs": [],
   "source": [
    "# img.shape"
   ]
  },
  {
   "cell_type": "markdown",
   "metadata": {},
   "source": [
    "## Image Translation"
   ]
  },
  {
   "cell_type": "code",
   "execution_count": 13,
   "metadata": {},
   "outputs": [],
   "source": [
    "tx = 100\n",
    "ty = 150\n",
    "M = np.float32([[1,0,tx],\n",
    "               [0,1,ty]])"
   ]
  },
  {
   "cell_type": "code",
   "execution_count": 14,
   "metadata": {},
   "outputs": [],
   "source": [
    "# shift_img = cv2.warpAffine(img, M, (img.shape[1], img.shape[0]))"
   ]
  },
  {
   "cell_type": "code",
   "execution_count": 15,
   "metadata": {},
   "outputs": [],
   "source": [
    "# display(shift_img)"
   ]
  },
  {
   "cell_type": "markdown",
   "metadata": {},
   "source": [
    "## Rotation"
   ]
  },
  {
   "cell_type": "code",
   "execution_count": 16,
   "metadata": {},
   "outputs": [],
   "source": [
    "# center = (img.shape[1]/2, img.shape[0]/2)"
   ]
  },
  {
   "cell_type": "code",
   "execution_count": 17,
   "metadata": {},
   "outputs": [],
   "source": [
    "# M = cv2.getRotationMatrix2D(center, 45, 1)\n",
    "# M"
   ]
  },
  {
   "cell_type": "code",
   "execution_count": 18,
   "metadata": {},
   "outputs": [],
   "source": [
    "# rotate_45 = cv2.warpAffine(img, M,(img.shape[1], img.shape[0]))"
   ]
  },
  {
   "cell_type": "code",
   "execution_count": 19,
   "metadata": {},
   "outputs": [],
   "source": [
    "# display(rotate_45)"
   ]
  },
  {
   "cell_type": "code",
   "execution_count": 20,
   "metadata": {},
   "outputs": [],
   "source": [
    "# from matplotlib import pyplot as plt\n",
    "# bin_img = np.array([[1,0,1],[0,1,0],[1,0,1]])\n",
    "# plt.imshow(bin_img)"
   ]
  },
  {
   "cell_type": "markdown",
   "metadata": {},
   "source": [
    "## Basics of VideoCapture"
   ]
  },
  {
   "cell_type": "code",
   "execution_count": 21,
   "metadata": {},
   "outputs": [],
   "source": [
    "# cap = cv2.VideoCapture('clip.mp4')\n",
    "# fps = 0\n",
    "# while True:\n",
    "#     start_time = time() # start time\n",
    "#     ret, frame = cap.read()\n",
    "#     print(ret)\n",
    "#     if ret == False:\n",
    "#         break\n",
    "        \n",
    "#     cv2.putText(frame,'FPS: {:.0f}'.format(fps),(30,40),cv2.FONT_HERSHEY_SIMPLEX,1.5,\n",
    "#                 (255,255,255),1)\n",
    "#     cv2.imshow('video',frame)\n",
    "#     frame_rate = cv2.waitKey(42)\n",
    "#     if frame_rate == ord('a'):\n",
    "#         # cv2.putText(frame,'Wait Key: {:d}'.format(cv2.waitKey(41)),(60,80),cv2.FONT_HERSHEY_SIMPLEX,1.5,)\n",
    "#         break\n",
    "#     print(frame_rate)  \n",
    "        \n",
    "#     time_taken = time() - start_time # time taken in seconds\n",
    "#     print(time_taken)\n",
    "#     fps = 1/time_taken # frames per seconds\n",
    "    \n",
    "# cap.release()\n",
    "# cv2.destroyAllWindows()"
   ]
  },
  {
   "cell_type": "code",
   "execution_count": 22,
   "metadata": {},
   "outputs": [],
   "source": [
    "face_cascade = cv2.CascadeClassifier('model/haarcascade_frontalface_default.xml')"
   ]
  },
  {
   "cell_type": "markdown",
   "metadata": {},
   "source": [
    "## Face Detection Using Cascade Classifier "
   ]
  },
  {
   "cell_type": "code",
   "execution_count": 23,
   "metadata": {},
   "outputs": [],
   "source": [
    "# img = cv2.imread('new.png')\n",
    "# image = img.copy()\n",
    "# gray = cv2.cvtColor(img, cv2.COLOR_BGR2GRAY)\n",
    "# box, detection = face_cascade.detectMultiScale2(gray, minNeighbors=8)\n",
    "# for x,y,w,h in box:\n",
    "#     cv2.rectangle(image, (x, y), (x+w, y+h),(0,255,0),1)\n",
    "# cv2.imshow('Labeled',image)\n",
    "# cv2.waitKey(0)\n",
    "# cv2.destroyAllWindows()"
   ]
  },
  {
   "cell_type": "code",
   "execution_count": 24,
   "metadata": {},
   "outputs": [],
   "source": [
    "# vd = cv2.VideoCapture('clip.mp4')\n",
    "# fourcc = cv2.VideoWriter_fourcc(*\"XVID\")\n",
    "# output = cv2.VideoWriter('labeled.mp4', fourcc, 20.0, (640, 480))\n",
    "# while True:\n",
    "#     start_time = time()\n",
    "#     ret, frame = vd.read()\n",
    "#     gray_frame = cv2.cvtColor(frame,cv2.COLOR_BGR2GRAY)\n",
    "#     v_box, v_detect = face_cascade.detectMultiScale2(gray_frame, minNeighbors=8)\n",
    "\n",
    "#     for x1, y1, w1, h1 in v_box:\n",
    "#         cv2.rectangle(frame, (x1,y1), (x1+w1, y1+h1), (255,255,255),2)\n",
    "#         output.write(frame)\n",
    "#     if ret == False:\n",
    "#         break\n",
    "#     cv2.imshow('Video', frame)\n",
    "\n",
    "#     if cv2.waitKey(1000) == ord('q'):\n",
    "#         break\n",
    "\n",
    "# vd.release()\n",
    "# output.release()\n",
    "# cv2.destroyAllWindows()"
   ]
  },
  {
   "cell_type": "code",
   "execution_count": 25,
   "metadata": {},
   "outputs": [],
   "source": [
    "# label = cv2.VideoCapture('labeled.avi')\n",
    "# while True:\n",
    "#     ret, frame = label.read()\n",
    "#     if not ret:\n",
    "#         break\n",
    "#     cv2.imshow('video', frame)\n",
    "#     if cv2.waitKey(2000) == ord('q'):\n",
    "#         break\n",
    "# label.release()\n",
    "# cv2.destroyAllWindows()"
   ]
  },
  {
   "cell_type": "code",
   "execution_count": 26,
   "metadata": {},
   "outputs": [],
   "source": [
    "# drawing = cv2.VideoCapture('clip.mp4')\n",
    "# x = [0,0]\n",
    "# y = [100,100]\n",
    "# r,g,b = 0,0,0\n",
    "# height = drawing.get(cv2.CAP_PROP_FRAME_HEIGHT)\n",
    "# width = drawing.get(cv2.CAP_PROP_FRAME_WIDTH)\n",
    "# while True:\n",
    "#     ret, frame = drawing.read()\n",
    "#     if not ret:\n",
    "#         break\n",
    "#     # cv2.rectangle(frame,x,y,[0,0,0],5,1)\n",
    "#     if y[1] == height:\n",
    "#         x[1] -= 3\n",
    "#         y[1] -= 3\n",
    "#         x[0] += 3\n",
    "#         y[0] += 3\n",
    "#     elif y[0] == width:\n",
    "#         x[0] -= 3\n",
    "#         y[0] -= 3\n",
    "#         x[1] += 3\n",
    "#         y[1] += 3\n",
    "#     else:\n",
    "#         x[0] +=3\n",
    "#         x[1] +=3\n",
    "#         y[0] +=3\n",
    "#         y[1] +=3\n",
    "#     # cv2.circle(frame,x,50,np.random.randint(0,255,(3,)).tolist(),5,1)\n",
    "#     cv2.line(frame,[0,0],y,np.random.randint(0,255,(3,)).tolist(),5)\n",
    "#     cv2.imshow('drawing', frame)\n",
    "#     if cv2.waitKey(41) == ord('q'):\n",
    "#         break\n",
    "    \n",
    "# drawing.release()\n",
    "# cv2.destroyAllWindows()"
   ]
  },
  {
   "cell_type": "code",
   "execution_count": 27,
   "metadata": {},
   "outputs": [],
   "source": [
    "# np.random.randint(0,255,(3,)).tolist()"
   ]
  },
  {
   "cell_type": "markdown",
   "metadata": {},
   "source": [
    "## Mouse Events in Opencv"
   ]
  },
  {
   "cell_type": "code",
   "execution_count": 28,
   "metadata": {},
   "outputs": [
    {
     "data": {
      "text/plain": [
       "['EVENT_FLAG_ALTKEY',\n",
       " 'EVENT_FLAG_CTRLKEY',\n",
       " 'EVENT_FLAG_LBUTTON',\n",
       " 'EVENT_FLAG_MBUTTON',\n",
       " 'EVENT_FLAG_RBUTTON',\n",
       " 'EVENT_FLAG_SHIFTKEY',\n",
       " 'EVENT_LBUTTONDBLCLK',\n",
       " 'EVENT_LBUTTONDOWN',\n",
       " 'EVENT_LBUTTONUP',\n",
       " 'EVENT_MBUTTONDBLCLK',\n",
       " 'EVENT_MBUTTONDOWN',\n",
       " 'EVENT_MBUTTONUP',\n",
       " 'EVENT_MOUSEHWHEEL',\n",
       " 'EVENT_MOUSEMOVE',\n",
       " 'EVENT_MOUSEWHEEL',\n",
       " 'EVENT_RBUTTONDBLCLK',\n",
       " 'EVENT_RBUTTONDOWN',\n",
       " 'EVENT_RBUTTONUP']"
      ]
     },
     "execution_count": 28,
     "metadata": {},
     "output_type": "execute_result"
    }
   ],
   "source": [
    "events = [i for i in dir(cv2) if \"EVENT\" in i]\n",
    "events"
   ]
  },
  {
   "cell_type": "markdown",
   "metadata": {},
   "source": [
    "## Click Events"
   ]
  },
  {
   "cell_type": "code",
   "execution_count": 29,
   "metadata": {},
   "outputs": [],
   "source": [
    "# def click_event(event, x, y, flags, param):\n",
    "#     # print(x,', ', y)\n",
    "#     if event == cv2.EVENT_LBUTTONDOWN:\n",
    "#         font = cv2.FONT_HERSHEY_SCRIPT_SIMPLEX\n",
    "#         cv2.putText(img, f'Vertices: ({x}, {y})',(x,y),font,.5,[255,255,0],1)\n",
    "#         cv2.imshow('image',img)\n",
    "#     elif event == cv2.EVENT_RBUTTONDOWN:\n",
    "#         blue = img[y,x,0]\n",
    "#         green = img[y,x,1]\n",
    "#         red = img[y,x,2]\n",
    "#         print(x,', ', y)\n",
    "#         font = cv2.FONT_HERSHEY_SCRIPT_SIMPLEX\n",
    "#         cv2.putText(img, f'RGB: ({red},{green},{blue})',(x,y),font,.5,[255,255,0],1)\n",
    "#         cv2.imshow('image',img)\n",
    "\n",
    "# def line_with_mouse(event, x, y, flags, param):\n",
    "#     if event == cv2.EVENT_LBUTTONDOWN:\n",
    "#         # print(x,', ', y)\n",
    "#         cv2.circle(img,(x,y),3,[0,0,255],-1)\n",
    "#         points.append((x,y))\n",
    "#         if len(points) >= 2:\n",
    "#             cv2.line(img,points[-1],points[-2],[0,255,0],3)\n",
    "#         cv2.imshow('image', img)\n",
    "# def show_bgr_event(event, x, y, flags, param):\n",
    "#         # print(x,', ', y)\n",
    "        \n",
    "#         if event == cv2.EVENT_LBUTTONUP:\n",
    "#             a=False\n",
    "\n",
    "#         if event == cv2.EVENT_LBUTTONDOWN:\n",
    "#             res = np.zeros(img.shape,np.uint8)\n",
    "#             res[:]=[img[y,x,0],img[y,x,1],img[y,x,2]]\n",
    "#             cv2.imshow('result', res)\n",
    "\n",
    "#         # cv2.imshow('image',img)\n",
    "\n",
    "# img = cv2.imread('faces.jpg')\n",
    "# # img = np.zeros((600,500,3), np.uint8)\n",
    "\n",
    "\n",
    "# points=[]\n",
    "# cv2.imshow('image', img)\n",
    "# cv2.setMouseCallback('image', click_event)\n",
    "# cv2.waitKey(0)\n",
    "# cv2.destroyAllWindows()"
   ]
  },
  {
   "cell_type": "code",
   "execution_count": 30,
   "metadata": {},
   "outputs": [],
   "source": [
    "# img_t = np.rot90(img, k=3)\n",
    "# plt.imshow(img_t)"
   ]
  },
  {
   "cell_type": "code",
   "execution_count": 31,
   "metadata": {},
   "outputs": [],
   "source": [
    "# img = cv2.imread('faces.jpg')\n",
    "# img1 = cv2.imread('new.png')\n",
    "# img = cv2.resize(img,(300,500))\n",
    "# img1 = cv2.resize(img1,(300,500))\n",
    "# added = cv2.add(img,img1)\n",
    "# cv2.imshow('new',added)\n",
    "# cv2.waitKey(0)\n",
    "# cv2.destroyAllWindows()"
   ]
  },
  {
   "cell_type": "markdown",
   "metadata": {},
   "source": [
    "## Resizing with cv2.add and addweighted"
   ]
  },
  {
   "cell_type": "code",
   "execution_count": 32,
   "metadata": {},
   "outputs": [],
   "source": [
    "# img = cv2.imread('faces.jpg')\n",
    "# img1 = cv2.imread('new.png')\n",
    "# img = cv2.resize(img,(300,500))\n",
    "# img1 = cv2.resize(img1,(300,500))\n",
    "# added = cv2.addWeighted(img,.4,img1,.6,0)\n",
    "# cv2.imshow('new',added)\n",
    "# cv2.waitKey(0)\n",
    "# cv2.destroyAllWindows()"
   ]
  },
  {
   "cell_type": "code",
   "execution_count": 33,
   "metadata": {},
   "outputs": [],
   "source": [
    "# cv2.imshow('new',img1)\n",
    "# cv2.imshow('new1',img)\n",
    "# cv2.waitKey(0)\n",
    "# cv2.destroyAllWindows()"
   ]
  },
  {
   "cell_type": "code",
   "execution_count": 34,
   "metadata": {},
   "outputs": [],
   "source": [
    "black_side = np.zeros((500,500,3),np.uint8)\n",
    "white_side = np.zeros((500,500,3),np.uint8)\n",
    "black_side[100:400,100:400]=[255,255,255]\n"
   ]
  },
  {
   "cell_type": "code",
   "execution_count": 35,
   "metadata": {},
   "outputs": [],
   "source": [
    "# plt.figure(figsize=(20,20))\n",
    "# plt.subplot(5,5,1)\n",
    "# plt.imshow(black_side)\n",
    "# white_side = cv2.circle(white_side,(250,250), 250,[255,255,255],-1)\n",
    "# plt.subplot(5,5,2)\n",
    "# plt.imshow(white_side)"
   ]
  },
  {
   "cell_type": "code",
   "execution_count": 36,
   "metadata": {},
   "outputs": [],
   "source": [
    "img_and = cv2.bitwise_and(white_side,black_side)"
   ]
  },
  {
   "cell_type": "code",
   "execution_count": 37,
   "metadata": {},
   "outputs": [],
   "source": [
    "img_not = cv2.bitwise_not(black_side)\n"
   ]
  },
  {
   "cell_type": "code",
   "execution_count": 38,
   "metadata": {},
   "outputs": [],
   "source": [
    "img_or = cv2.bitwise_or(white_side,black_side)"
   ]
  },
  {
   "cell_type": "code",
   "execution_count": 39,
   "metadata": {},
   "outputs": [
    {
     "data": {
      "text/plain": [
       "<matplotlib.image.AxesImage at 0x22476ffac18>"
      ]
     },
     "execution_count": 39,
     "metadata": {},
     "output_type": "execute_result"
    },
    {
     "data": {
      "image/png": "[encoded data removed]",
      "text/plain": [
       "<Figure size 432x288 with 1 Axes>"
      ]
     },
     "metadata": {
      "needs_background": "light"
     },
     "output_type": "display_data"
    }
   ],
   "source": [
    "plt.imshow(img_or)\n"
   ]
  },
  {
   "cell_type": "code",
   "execution_count": 40,
   "metadata": {},
   "outputs": [],
   "source": [
    "img_xor = cv2.bitwise_xor(white_side,black_side)\n"
   ]
  },
  {
   "cell_type": "markdown",
   "metadata": {},
   "source": [
    "## Bolean Masking"
   ]
  },
  {
   "cell_type": "code",
   "execution_count": 41,
   "metadata": {},
   "outputs": [
    {
     "data": {
      "text/plain": [
       "<matplotlib.image.AxesImage at 0x224770f8828>"
      ]
     },
     "execution_count": 41,
     "metadata": {},
     "output_type": "execute_result"
    },
    {
     "data": {
      "image/png": "[encoded data removed]",
      "text/plain": [
       "<Figure size 432x288 with 1 Axes>"
      ]
     },
     "metadata": {
      "needs_background": "light"
     },
     "output_type": "display_data"
    }
   ],
   "source": [
    "plt.imshow(img_xor)\n"
   ]
  },
  {
   "cell_type": "code",
   "execution_count": 42,
   "metadata": {},
   "outputs": [
    {
     "data": {
      "text/plain": [
       "<matplotlib.image.AxesImage at 0x2247716e908>"
      ]
     },
     "execution_count": 42,
     "metadata": {},
     "output_type": "execute_result"
    },
    {
     "data": {
      "image/png": "[encoded data removed]",
      "text/plain": [
       "<Figure size 432x288 with 1 Axes>"
      ]
     },
     "metadata": {
      "needs_background": "light"
     },
     "output_type": "display_data"
    }
   ],
   "source": [
    "img_not = cv2.bitwise_not(black_side)\n",
    "plt.imshow(img_not)"
   ]
  },
  {
   "cell_type": "code",
   "execution_count": 43,
   "metadata": {},
   "outputs": [
    {
     "data": {
      "text/plain": [
       "<matplotlib.image.AxesImage at 0x2247a3b1390>"
      ]
     },
     "execution_count": 43,
     "metadata": {},
     "output_type": "execute_result"
    },
    {
     "data": {
      "image/png": "[encoded data removed]",
      "text/plain": [
       "<Figure size 432x288 with 1 Axes>"
      ]
     },
     "metadata": {
      "needs_background": "light"
     },
     "output_type": "display_data"
    }
   ],
   "source": [
    "img_xor_not = cv2.bitwise_xor(img_not,white_side)\n",
    "plt.imshow(img_xor_not)\n"
   ]
  },
  {
   "cell_type": "markdown",
   "metadata": {},
   "source": [
    "## Image TrackBars"
   ]
  },
  {
   "cell_type": "code",
   "execution_count": 44,
   "metadata": {},
   "outputs": [],
   "source": [
    "# def dummy(x):\n",
    "#     # print(x)\n",
    "#     pass\n",
    "\n",
    "\n",
    "# cv2.namedWindow('image')\n",
    "# # img = np.zeros((500,500,3),np.uint8)\n",
    "# cv2.createTrackbar('B', 'image', 0, 255, dummy)\n",
    "# cv2.createTrackbar('G', 'image', 0, 255, dummy)\n",
    "# cv2.createTrackbar('R', 'image', 0, 255, dummy)\n",
    "# switch = \"0: off\\n 1: on\"\n",
    "# cv2.createTrackbar(switch, 'image',0,1,dummy)\n",
    "# while True:\n",
    "#     img = cv2.imread('faces.jpg')\n",
    "#     cv2.imshow('image', img)\n",
    "#     if cv2.waitKey(1) == ord('q'):\n",
    "#         break\n",
    "#     b = cv2.getTrackbarPos('B', 'image')\n",
    "#     g = cv2.getTrackbarPos('G', 'image')\n",
    "#     r = cv2.getTrackbarPos('R', 'image')\n",
    "#     s = cv2.getTrackbarPos(switch, 'image')\n",
    "#     if s==0:\n",
    "#         pass\n",
    "#     else:\n",
    "#         img[:] = [b, g, r]\n",
    "# cv2.destroyAllWindows()\n"
   ]
  },
  {
   "cell_type": "code",
   "execution_count": 45,
   "metadata": {},
   "outputs": [],
   "source": [
    "# def novalue(x):\n",
    "#     return None\n",
    "# cv2.namedWindow('tracker')\n",
    "# cv2.createTrackbar('POS', 'tracker', 0,255,novalue)\n",
    "\n",
    "# while True:\n",
    "#     img = cv2.imread('faces.jpg')\n",
    "#     pos = cv2.getTrackbarPos('POS','tracker')\n",
    "#     font = cv2.FONT_HERSHEY_SCRIPT_SIMPLEX\n",
    "#     cv2.putText(img, str(pos), (120,150),font,3,[0,255,0],3)\n",
    "#     cv2.imshow('tracker', img)\n",
    "#     if cv2.waitKey(1) == ord('q'):\n",
    "#         break\n",
    "# cv2.destroyAllWindows()"
   ]
  },
  {
   "cell_type": "markdown",
   "metadata": {},
   "source": [
    "## HSV (Hue, Saturation, Value) with Masking."
   ]
  },
  {
   "cell_type": "code",
   "execution_count": 46,
   "metadata": {},
   "outputs": [],
   "source": [
    "# while True:\n",
    "#     img = cv2.imread('faces.jpg')\n",
    "#     hsv = cv2.cvtColor(img,cv2.COLOR_BGR2HSV)\n",
    "#     l_b = np.array([105,86,72])\n",
    "#     u_b = np.array([207,210,203])\n",
    "#     mask = cv2.inRange(img,l_b, u_b)\n",
    "#     res = cv2.bitwise_and(img, img,mask=mask)\n",
    "\n",
    "#     cv2.imshow('img', img)\n",
    "#     cv2.imshow('res', res)\n",
    "#     cv2.imshow('mask', mask)\n",
    "#     if cv2.waitKey(1)==ord('q'):\n",
    "#         break\n",
    "# cv2.destroyAllWindows()"
   ]
  },
  {
   "cell_type": "markdown",
   "metadata": {},
   "source": [
    "## Calculate HSV Using Trackbars"
   ]
  },
  {
   "cell_type": "code",
   "execution_count": 47,
   "metadata": {},
   "outputs": [],
   "source": [
    "# def nothing(x): pass\n",
    "# vid = cv2.VideoCapture(1)\n",
    "# cv2.namedWindow('HSV')\n",
    "\n",
    "# cv2.createTrackbar('LH', 'HSV', 0, 255, nothing)\n",
    "# cv2.createTrackbar('LS', 'HSV', 0, 255, nothing)\n",
    "# cv2.createTrackbar('LV', 'HSV', 0, 255, nothing)\n",
    "\n",
    "# cv2.createTrackbar('UH', 'HSV', 255, 255, nothing)\n",
    "# cv2.createTrackbar('US', 'HSV', 255, 255, nothing)\n",
    "# cv2.createTrackbar('UV', 'HSV', 255, 255, nothing)\n",
    "\n",
    "# while True:\n",
    "#     _,img = vid.read()\n",
    "#     hsv = cv2.cvtColor(img,cv2.COLOR_BGR2HSV)\n",
    "\n",
    "#     uh = cv2.getTrackbarPos('UH', 'HSV')\n",
    "#     us = cv2.getTrackbarPos('US', 'HSV')\n",
    "#     uv = cv2.getTrackbarPos('UV', 'HSV')\n",
    "\n",
    "#     lh = cv2.getTrackbarPos('LH', 'HSV')\n",
    "#     ls = cv2.getTrackbarPos('LS', 'HSV')\n",
    "#     lv = cv2.getTrackbarPos('LV', 'HSV')\n",
    "\n",
    "\n",
    "#     u_b = np.array([uh, us, uv])\n",
    "#     l_b = np.array([lh, ls, lv])\n",
    "#     mask = cv2.inRange(img,l_b,u_b)\n",
    "#     res = cv2.bitwise_and(img,hsv,mask=mask)\n",
    "\n",
    "#     cv2.imshow('img', img)\n",
    "#     cv2.imshow('res', res)\n",
    "#     cv2.imshow('mask', mask)\n",
    "\n",
    "#     if cv2.waitKey(1) == 27:\n",
    "#         break\n",
    "# vid.release()\n",
    "# cv2.destroyAllWindows()\n"
   ]
  },
  {
   "cell_type": "code",
   "execution_count": 48,
   "metadata": {},
   "outputs": [],
   "source": [
    "img = cv2.imread('faces.jpg')\n",
    "cv2.imshow('xx',img)\n",
    "cv2.waitKey(5000)\n",
    "cv2.destroyAllWindows()\n"
   ]
  },
  {
   "cell_type": "code",
   "execution_count": 49,
   "metadata": {},
   "outputs": [],
   "source": [
    "white = cv2.imread('COLOR-MEANINGS.jpg')\n",
    "blue = white.copy()\n",
    "test = np.where(np.all(blue >=200, axis=-1))\n",
    "blue[test]=[255,0,0]\n",
    "cv2.imshow('blue',blue)\n",
    "cv2.imshow('white',white)\n",
    "cv2.waitKey(0)\n",
    "cv2.destroyAllWindows()\n"
   ]
  },
  {
   "cell_type": "code",
   "execution_count": 50,
   "metadata": {},
   "outputs": [
    {
     "data": {
      "text/plain": [
       "True"
      ]
     },
     "execution_count": 50,
     "metadata": {},
     "output_type": "execute_result"
    }
   ],
   "source": [
    "cv2.imwrite('../../Task_3/static/images/nnnn.jpg', blue)"
   ]
  }
 ],
 "metadata": {
  "interpreter": {
   "hash": "48e03393d694f39cedaf5d3d774fe6a97fb0ba030e36d15dca854a0aa23ec665"
  },
  "kernelspec": {
   "display_name": "Python 3.7.0 64-bit",
   "language": "python",
   "name": "python3"
  },
  "language_info": {
   "codemirror_mode": {
    "name": "ipython",
    "version": 3
   },
   "file_extension": ".py",
   "mimetype": "text/x-python",
   "name": "python",
   "nbconvert_exporter": "python",
   "pygments_lexer": "ipython3",
   "version": "3.7.0"
  },
  "orig_nbformat": 4
 },
 "nbformat": 4,
 "nbformat_minor": 2
}
